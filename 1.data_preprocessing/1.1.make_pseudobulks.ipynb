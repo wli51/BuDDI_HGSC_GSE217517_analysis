{
 "cells": [
  {
   "cell_type": "markdown",
   "metadata": {},
   "source": [
    "# This notebook makes the Pseudobulks from processed single-cell data and formats relevant metadata\n",
    "\n",
    "Data format requirements for single-cell data:\n",
    "- processed data is not scaled (RAW counts available in `adata.X`)\n",
    "- cells are filtered such that low-quality cells are removed (e.g. filter out cells with less than 200 genes and genes expressed in less than 3 cells, and > 5% MT reads)\n",
    "- data is saved as an AnnData object and you have sample IDs, gene IDs, and cell-type labels\n",
    "\n",
    "The end product of this notebook will include the following `.pkl` files per each sample, stimulation and datasplit combination:\n",
    "- Pseudobulk gene expression (`*_pseudo_splits.pkl`) and proportions (`*_prop_splits.pkl`) from random cell type mixture and single cell type dominant mixture\n",
    "- Metadata (`*_meta_splits.pkl`) with the following fields\n",
    "  - the observations have columns named: \"sample_id\", \"stim\", \"isTraining\"\n",
    "  - sample_id: unique IDs for the samples\n",
    "  - stim: is \"STIM\" or \"CTRL\", denotes if the sample is \"female\" or \"male\"\n",
    "  - isTraining: 'Train' or 'Test',  denotes whether the sample is used during training or not."
   ]
  },
  {
   "cell_type": "code",
   "execution_count": 1,
   "metadata": {},
   "outputs": [],
   "source": [
    "import random\n",
    "import sys\n",
    "import pathlib\n",
    "import yaml\n",
    "import subprocess\n",
    "\n",
    "import pandas as pd\n",
    "import numpy as np\n",
    "import scanpy as sc\n",
    "import matplotlib.pyplot as plt"
   ]
  },
  {
   "cell_type": "markdown",
   "metadata": {},
   "source": [
    "## Load config\n",
    "The config file specifies the path to data and software repo (due to currently in active development)"
   ]
  },
  {
   "cell_type": "code",
   "execution_count": 2,
   "metadata": {},
   "outputs": [],
   "source": [
    "# Get the root directory of the analysis repository\n",
    "REPO_ROOT = subprocess.run(\n",
    "    [\"git\", \"rev-parse\", \"--show-toplevel\"], capture_output=True, text=True\n",
    ").stdout.strip()\n",
    "REPO_ROOT = pathlib.Path(REPO_ROOT)\n",
    "\n",
    "CONFIG_FILE = REPO_ROOT / 'config.yml'\n",
    "assert CONFIG_FILE.exists(), f\"Config file not found at {CONFIG_FILE}\"\n",
    "\n",
    "with open(CONFIG_FILE, 'r') as file:\n",
    "    config_dict = yaml.safe_load(file)    \n",
    "ACCESSION = config_dict['data_accession']"
   ]
  },
  {
   "cell_type": "markdown",
   "metadata": {},
   "source": [
    "## Obtain configuration on what columns represent and how column names in the output formatted data should be"
   ]
  },
  {
   "cell_type": "code",
   "execution_count": 3,
   "metadata": {},
   "outputs": [],
   "source": [
    "DATASPLIT_SEED = 42\n",
    "TEST_SIZE = 0.2\n",
    "\n",
    "analysis_config = config_dict['analysis_config']\n",
    "source_col_def = analysis_config['source']['sc']\n",
    "format_col_def = analysis_config['format']"
   ]
  },
  {
   "cell_type": "markdown",
   "metadata": {},
   "source": [
    "## Add dev buddi fork to path and import"
   ]
  },
  {
   "cell_type": "code",
   "execution_count": 4,
   "metadata": {},
   "outputs": [
    {
     "name": "stderr",
     "output_type": "stream",
     "text": [
      "2025-05-16 10:34:39.702674: I tensorflow/core/util/port.cc:153] oneDNN custom operations are on. You may see slightly different numerical results due to floating-point round-off errors from different computation orders. To turn them off, set the environment variable `TF_ENABLE_ONEDNN_OPTS=0`.\n",
      "2025-05-16 10:34:39.711585: E external/local_xla/xla/stream_executor/cuda/cuda_fft.cc:467] Unable to register cuFFT factory: Attempting to register factory for plugin cuFFT when one has already been registered\n",
      "WARNING: All log messages before absl::InitializeLog() is called are written to STDERR\n",
      "E0000 00:00:1747413279.720673  185091 cuda_dnn.cc:8579] Unable to register cuDNN factory: Attempting to register factory for plugin cuDNN when one has already been registered\n",
      "E0000 00:00:1747413279.723413  185091 cuda_blas.cc:1407] Unable to register cuBLAS factory: Attempting to register factory for plugin cuBLAS when one has already been registered\n",
      "W0000 00:00:1747413279.731274  185091 computation_placer.cc:177] computation placer already registered. Please check linkage and avoid linking the same target more than once.\n",
      "W0000 00:00:1747413279.731283  185091 computation_placer.cc:177] computation placer already registered. Please check linkage and avoid linking the same target more than once.\n",
      "W0000 00:00:1747413279.731284  185091 computation_placer.cc:177] computation placer already registered. Please check linkage and avoid linking the same target more than once.\n",
      "W0000 00:00:1747413279.731285  185091 computation_placer.cc:177] computation placer already registered. Please check linkage and avoid linking the same target more than once.\n",
      "2025-05-16 10:34:39.734073: I tensorflow/core/platform/cpu_feature_guard.cc:210] This TensorFlow binary is optimized to use available CPU instructions in performance-critical operations.\n",
      "To enable the following instructions: AVX2 AVX512F AVX512_VNNI AVX512_BF16 FMA, in other operations, rebuild TensorFlow with the appropriate compiler flags.\n"
     ]
    }
   ],
   "source": [
    "buddi_fork_path = config_dict['software_path']['buddi_v2']\n",
    "buddi_fork_path = pathlib.Path(buddi_fork_path)\n",
    "assert buddi_fork_path.exists(), f\"buddi fork not found at {buddi_fork_path}\"\n",
    "\n",
    "sys.path.insert(0, str(buddi_fork_path))\n",
    "# this is quite ugly, once activate modifications are done this will be changed\n",
    "# to a proper installation + import\n",
    "from buddi_v2.preprocessing.sc_augmentor import SCAugmentor, load_sc_augmentation_dir\n",
    "from buddi_v2.plotting.plot_data import plot_data"
   ]
  },
  {
   "cell_type": "markdown",
   "metadata": {},
   "source": [
    "## Retrieve Path to Processed Single-Cell RNA-seq Data and relevant Metadata"
   ]
  },
  {
   "cell_type": "code",
   "execution_count": 5,
   "metadata": {},
   "outputs": [],
   "source": [
    "SC_DATA_PATH = pathlib.Path(config_dict['data_path']['sc_data_path'])\n",
    "\n",
    "SC_ADATA_PATH = SC_DATA_PATH / f'{ACCESSION}_processed'\n",
    "assert SC_ADATA_PATH.exists(), f\"Processed Single-cell Data path {SC_ADATA_PATH} does not exist\"\n",
    "SC_ADATA_FILE = SC_ADATA_PATH / f'HGSCsubtype_processed.h5ad'\n",
    "assert SC_ADATA_FILE.exists(), f\"Processed Single-cell Data file {SC_ADATA_FILE} does not exist\"\n",
    "SC_METADATA_PATH = SC_DATA_PATH / f'{ACCESSION}_metadata'\n",
    "assert SC_METADATA_PATH.exists(), f\"Single-cell Metadata path {SC_METADATA_PATH} does not exist\""
   ]
  },
  {
   "cell_type": "markdown",
   "metadata": {},
   "source": [
    "## Define Path to write Pre-Processing Outputs"
   ]
  },
  {
   "cell_type": "code",
   "execution_count": 6,
   "metadata": {},
   "outputs": [],
   "source": [
    "PREPROCESSING_OUTPUT_PATH = REPO_ROOT / 'processed_data'\n",
    "assert PREPROCESSING_OUTPUT_PATH.exists(), f\"Preprocessing output path {PREPROCESSING_OUTPUT_PATH} does not exist\"\n",
    "SC_AUGMENTED_DATA_PATH = PREPROCESSING_OUTPUT_PATH / 'sc_augmented'\n",
    "SC_AUGMENTED_DATA_PATH.mkdir(exist_ok=True, parents=True)"
   ]
  },
  {
   "cell_type": "markdown",
   "metadata": {},
   "source": [
    "## Preprocessing of scRNA-seq Anndata before Moving to Pseudobulk\n",
    "### Load and Preprocess Anndata"
   ]
  },
  {
   "cell_type": "code",
   "execution_count": 7,
   "metadata": {},
   "outputs": [],
   "source": [
    "adata = sc.read_h5ad(SC_ADATA_FILE)\n",
    "\n",
    "# checking if the defined columns are present in the adata.obs\n",
    "for key, value in source_col_def['obs'].items():\n",
    "    assert value in adata.obs.columns, f\"Column {value} for {key} not found in adata.obs\"\n",
    "\n",
    "for key, value in source_col_def['var'].items():\n",
    "    if value == 'None':\n",
    "        continue\n",
    "    assert value in adata.var.columns, f\"Column {value} for {key} not found in adata.var\""
   ]
  },
  {
   "cell_type": "code",
   "execution_count": 8,
   "metadata": {},
   "outputs": [],
   "source": [
    "adata.var_names_make_unique()\n",
    "adata.var[\n",
    "    format_col_def['var']['gene_id_col']\n",
    "] = adata.var.index.tolist() if source_col_def['var']['gene_id_col'] == 'None' else source_col_def['var']['gene_id_col']\n",
    "\n",
    "# replace underscores with hyphens in the sample_id column\n",
    "for key, value in source_col_def['obs'].items():\n",
    "\n",
    "    values = adata.obs[value]\n",
    "    if values.dtype != 'str':\n",
    "        try:\n",
    "            values = values.astype(str)\n",
    "        except ValueError:\n",
    "            raise ValueError(f\"Cannot convert {value} to string. Found values: {values}\")\n",
    "\n",
    "    adata.obs[\n",
    "        format_col_def['obs'][key]\n",
    "    ] = values.str.replace('_', '-') # replace underscores with hyphens"
   ]
  },
  {
   "cell_type": "code",
   "execution_count": 9,
   "metadata": {},
   "outputs": [],
   "source": [
    "# all perturbation of scRNA-seq data are dissociated\n",
    "adata.obs[format_col_def['obs']['stim_col']] = 'dissociated'"
   ]
  },
  {
   "cell_type": "markdown",
   "metadata": {},
   "source": [
    "### Cell Type Stats"
   ]
  },
  {
   "cell_type": "code",
   "execution_count": 10,
   "metadata": {},
   "outputs": [
    {
     "name": "stdout",
     "output_type": "stream",
     "text": [
      "cell_type  B cells   DC  Endothelial cells  Epithelial cells  Fibroblasts  \\\n",
      "sample_id                                                                   \n",
      "2251           162  140               1221               390         1276   \n",
      "2293            43  156                 22               181          192   \n",
      "2380           148  147                162               616         1354   \n",
      "2467            24   26                376               196         2796   \n",
      "2497           301   68                322               916         2529   \n",
      "\n",
      "cell_type  Macrophages  Mast cells  Monocytes  NK cells  Plasma cells  T cells  \n",
      "sample_id                                                                       \n",
      "2251               262          15        283       197          1876      997  \n",
      "2293               793           7         33       950           127     5230  \n",
      "2380               205          16        404       136            32     1512  \n",
      "2467               629          32        167        62           352      501  \n",
      "2497               137          28         57        41            51     2758  \n"
     ]
    },
    {
     "data": {
      "image/png": "[encoded data removed]",
      "text/plain": [
       "<Figure size 1200x600 with 1 Axes>"
      ]
     },
     "metadata": {},
     "output_type": "display_data"
    }
   ],
   "source": [
    "ct = pd.crosstab(\n",
    "    adata.obs[format_col_def['obs']['sample_col']], \n",
    "    adata.obs[format_col_def['obs']['cell_type_col']]\n",
    "    )\n",
    "with pd.option_context(\n",
    "    'display.max_rows', None,\n",
    "    'display.max_columns', None,\n",
    "    'display.width', None,\n",
    "    'display.max_colwidth', None\n",
    "):\n",
    "    print(ct)\n",
    "\n",
    "count_df = adata.obs.groupby([\n",
    "    adata.obs[format_col_def['obs']['sample_col']], \n",
    "    adata.obs[format_col_def['obs']['cell_type_col']]\n",
    "    ]).size().reset_index(name='count')\n",
    "pivot_df = count_df.pivot(\n",
    "    index=format_col_def['obs']['sample_col'],\n",
    "    columns=format_col_def['obs']['cell_type_col'],\n",
    "    values='count').fillna(0)\n",
    "\n",
    "pivot_df = pivot_df.div(pivot_df.sum(axis=1), axis=0)\n",
    "\n",
    "fig, ax = plt.subplots(figsize=(12, 6))\n",
    "pivot_df.plot(kind='bar', stacked=True, figsize=(12, 6), colormap='tab20', ax=ax)\n",
    "\n",
    "plt.xlabel('Sample')\n",
    "plt.ylabel('Cell Count')\n",
    "plt.title('Cell Type Composition per Sample')\n",
    "plt.legend(title='Cell Type', bbox_to_anchor=(1.05, 1), loc='upper left')\n",
    "plt.tight_layout()\n",
    "plt.show()"
   ]
  },
  {
   "cell_type": "markdown",
   "metadata": {},
   "source": [
    "### Stim Stats"
   ]
  },
  {
   "cell_type": "code",
   "execution_count": 11,
   "metadata": {},
   "outputs": [
    {
     "name": "stdout",
     "output_type": "stream",
     "text": [
      "stim       dissociated\n",
      "sample_id             \n",
      "2251              6819\n",
      "2293              7734\n",
      "2380              4732\n",
      "2467              5161\n",
      "2497              7208\n"
     ]
    }
   ],
   "source": [
    "ct = pd.crosstab(\n",
    "    adata.obs[format_col_def['obs']['sample_col']], \n",
    "    adata.obs[format_col_def['obs']['stim_col']])\n",
    "with pd.option_context(\n",
    "    'display.max_rows', None,\n",
    "    'display.max_columns', None,\n",
    "    'display.width', None,\n",
    "    'display.max_colwidth', None\n",
    "):\n",
    "    print(ct)"
   ]
  },
  {
   "cell_type": "markdown",
   "metadata": {},
   "source": [
    "### Perform train test split holding out samples completely"
   ]
  },
  {
   "cell_type": "code",
   "execution_count": 12,
   "metadata": {},
   "outputs": [
    {
     "name": "stdout",
     "output_type": "stream",
     "text": [
      "All unique sample IDs: ['2251' '2293' '2380' '2467' '2497']\n",
      "Test sample ID(s) selected for hold-out as test dataset: ['2251']\n",
      "\n",
      "\n",
      "Data Split Sanity Check Tabulation\n",
      "isTraining  Test  Train\n",
      "sample_id              \n",
      "2251        6819      0\n",
      "2293           0   7734\n",
      "2380           0   4732\n",
      "2467           0   5161\n",
      "2497           0   7208\n"
     ]
    }
   ],
   "source": [
    "unique_sample_ids = adata.obs[format_col_def['obs']['sample_col']].unique()\n",
    "print(f\"All unique sample IDs: {unique_sample_ids}\")\n",
    "\n",
    "random.seed(DATASPLIT_SEED)\n",
    "\n",
    "n_test_samples = int(np.ceil(len(unique_sample_ids) * TEST_SIZE))\n",
    "test_sample_ids = random.sample(list(unique_sample_ids), n_test_samples)\n",
    "print(f\"Test sample ID(s) selected for hold-out as test dataset: {test_sample_ids}\")\n",
    "\n",
    "test_idx = np.where(adata.obs[format_col_def['obs']['sample_col']].isin(test_sample_ids))[0]\n",
    "test_idx = adata.obs.index[test_idx]\n",
    "adata.obs.loc[:, format_col_def['obs']['datasplit_col']] = 'Train'\n",
    "adata.obs.loc[test_idx, format_col_def['obs']['datasplit_col']] = 'Test'\n",
    "\n",
    "print(\"\\n\\nData Split Sanity Check Tabulation\")\n",
    "contingency_table = pd.crosstab(\n",
    "    adata.obs[format_col_def['obs']['sample_col']], \n",
    "    adata.obs[format_col_def['obs']['datasplit_col']])\n",
    "with pd.option_context(\n",
    "    'display.max_rows', None,\n",
    "    'display.max_columns', None,\n",
    "    'display.width', None,\n",
    "    'display.max_colwidth', None\n",
    "):\n",
    "    print(contingency_table)"
   ]
  },
  {
   "cell_type": "markdown",
   "metadata": {},
   "source": [
    "## Make Pseudobulks"
   ]
  },
  {
   "cell_type": "code",
   "execution_count": 13,
   "metadata": {},
   "outputs": [
    {
     "name": "stdout",
     "output_type": "stream",
     "text": [
      "-----------------------------------------------\n",
      "PseudoBulkAugmentor initialised with:\n",
      "  #Samples : 5\n",
      "  #Stims   : 1\n",
      "  #Splits  : 2\n",
      "  #Cell types : 11\n",
      "\n",
      "Contingency table (sample × split):\n",
      "isTraining  Test  Train\n",
      "sample_id              \n",
      "2251        6819      0\n",
      "2293           0   7734\n",
      "2380           0   4732\n",
      "2467           0   5161\n",
      "2497           0   7208\n",
      "-----------------------------------------------\n",
      "\n"
     ]
    }
   ],
   "source": [
    "augmentor = SCAugmentor(\n",
    "    adata=adata,\n",
    "    sample_col=format_col_def['obs']['sample_col'],\n",
    "    split_col=format_col_def['obs']['datasplit_col'],\n",
    "    celltype_col=format_col_def['obs']['cell_type_col'],\n",
    "    gene_id_col=format_col_def['var']['gene_id_col'],\n",
    ")"
   ]
  },
  {
   "cell_type": "code",
   "execution_count": 14,
   "metadata": {},
   "outputs": [
    {
     "name": "stdout",
     "output_type": "stream",
     "text": [
      "Random  : {'n_bulks': 1000, 'n_cells': 5000, 'mean': 5.0, 'variance_range': (1.0, 3.0)}\n",
      "Realistic: {'n_bulks': 0, 'n_cells': 5000, 'min_corr': 0.8}\n",
      "Single  : {'n_bulks': 100, 'n_cells': 5000, 'background_prop': 0.01}\n",
      "Noise   : {'cell_noise': [array([1.12037335, 0.97922104, 0.96106241, ..., 1.02409173, 1.05162842,\n",
      "       0.91471542]), array([0.95930547, 1.09559719, 1.26964897, ..., 1.02812291, 1.02059259,\n",
      "       1.00408478]), array([1.04424996, 0.95570117, 0.87224588, ..., 1.02147253, 1.03638553,\n",
      "       0.86666704]), array([1.11266814, 0.88170535, 0.97051211, ..., 0.94308371, 1.09337872,\n",
      "       0.94370873]), array([0.98298669, 1.18738918, 0.91302566, ..., 1.00050599, 0.89001177,\n",
      "       0.96301283]), array([1.03703644, 0.95293476, 1.02943674, ..., 1.03612598, 0.89777767,\n",
      "       1.12666842]), array([0.93037077, 1.04590608, 1.21358927, ..., 1.13230896, 0.98916273,\n",
      "       1.00049909]), array([1.02520179, 1.11726754, 1.01461472, ..., 0.99683019, 1.06663779,\n",
      "       1.03639328]), array([0.91494497, 1.07840542, 1.0790452 , ..., 1.09639949, 1.18315009,\n",
      "       1.00024141]), array([1.06515536, 0.91285075, 1.06758379, ..., 1.01861417, 1.00860876,\n",
      "       0.9659274 ]), array([0.96443745, 0.99731924, 1.05105235, ..., 1.08060201, 0.97028098,\n",
      "       1.01160036])], 'use_sample_noise': False}\n"
     ]
    }
   ],
   "source": [
    "augmentor.configure_random_pseudobulks(\n",
    "    n_bulks=1_000, # 1, 000 generated per sample\n",
    "    n_cells=5_000, # 5, 000 cells per pseudobulk\n",
    "    mean=5.0, # Mean for log-normal distribution sampling\n",
    "    variance_range=(1.0, 3.0), # Variance range for log-normal distribution sampling\n",
    ")\n",
    "augmentor.configure_realistic_pseudobulks(\n",
    "    n_bulks=0, # No realistic pseudobulks generated\n",
    ")\n",
    "augmentor.configure_singlecell_pseudobulks(\n",
    "    n_bulks=100, # 100 pseudobulks generated per sample per cell type \n",
    "    n_cells=5_000,\n",
    "    background_prop=0.01,\n",
    ")\n",
    "\n",
    "augmentor.configure_pseudobulk_noise(\n",
    "    cell_noise=(0, 0.1), # randomly generated noise with log-normal mean 0 and std 0.1\n",
    "    use_sample_noise=False, # Do not use sample noise\n",
    ")\n",
    "\n",
    "print(\"Random  :\", augmentor._random_cfg)\n",
    "print(\"Realistic:\", augmentor._realistic_cfg)\n",
    "print(\"Single  :\", augmentor._single_cfg)\n",
    "print(\"Noise   :\", augmentor._noise_cfg)"
   ]
  },
  {
   "cell_type": "code",
   "execution_count": 15,
   "metadata": {},
   "outputs": [
    {
     "name": "stdout",
     "output_type": "stream",
     "text": [
      "Generating pseudo‑bulk profiles for sample 2251, stim dissociated, split Test …\n",
      "  >Generating random‑prop pseudo‑bulks…\n"
     ]
    },
    {
     "name": "stderr",
     "output_type": "stream",
     "text": [
      "100%|██████████| 1000/1000 [00:23<00:00, 42.35it/s]\n"
     ]
    },
    {
     "name": "stdout",
     "output_type": "stream",
     "text": [
      "  >Generating single‑cell‑dominant pseudo‑bulks…\n"
     ]
    },
    {
     "name": "stderr",
     "output_type": "stream",
     "text": [
      "100%|██████████| 1100/1100 [00:27<00:00, 40.35it/s]\n"
     ]
    },
    {
     "name": "stdout",
     "output_type": "stream",
     "text": [
      "  Done for 2251, dissociated, Test.\n",
      "\n",
      "Generating pseudo‑bulk profiles for sample 2251, stim dissociated, split Train …\n",
      ">No matching cells – skipping.\n",
      "Generating pseudo‑bulk profiles for sample 2293, stim dissociated, split Test …\n",
      ">No matching cells – skipping.\n",
      "Generating pseudo‑bulk profiles for sample 2293, stim dissociated, split Train …\n",
      "  >Generating random‑prop pseudo‑bulks…\n"
     ]
    },
    {
     "name": "stderr",
     "output_type": "stream",
     "text": [
      "100%|██████████| 1000/1000 [00:23<00:00, 42.36it/s]\n"
     ]
    },
    {
     "name": "stdout",
     "output_type": "stream",
     "text": [
      "  >Generating single‑cell‑dominant pseudo‑bulks…\n"
     ]
    },
    {
     "name": "stderr",
     "output_type": "stream",
     "text": [
      "100%|██████████| 1100/1100 [00:27<00:00, 40.25it/s]\n"
     ]
    },
    {
     "name": "stdout",
     "output_type": "stream",
     "text": [
      "  Done for 2293, dissociated, Train.\n",
      "\n",
      "Generating pseudo‑bulk profiles for sample 2380, stim dissociated, split Test …\n",
      ">No matching cells – skipping.\n",
      "Generating pseudo‑bulk profiles for sample 2380, stim dissociated, split Train …\n",
      "  >Generating random‑prop pseudo‑bulks…\n"
     ]
    },
    {
     "name": "stderr",
     "output_type": "stream",
     "text": [
      "100%|██████████| 1000/1000 [00:23<00:00, 43.20it/s]\n"
     ]
    },
    {
     "name": "stdout",
     "output_type": "stream",
     "text": [
      "  >Generating single‑cell‑dominant pseudo‑bulks…\n"
     ]
    },
    {
     "name": "stderr",
     "output_type": "stream",
     "text": [
      "100%|██████████| 1100/1100 [00:25<00:00, 43.76it/s]\n"
     ]
    },
    {
     "name": "stdout",
     "output_type": "stream",
     "text": [
      "  Done for 2380, dissociated, Train.\n",
      "\n",
      "Generating pseudo‑bulk profiles for sample 2467, stim dissociated, split Test …\n",
      ">No matching cells – skipping.\n",
      "Generating pseudo‑bulk profiles for sample 2467, stim dissociated, split Train …\n",
      "  >Generating random‑prop pseudo‑bulks…\n"
     ]
    },
    {
     "name": "stderr",
     "output_type": "stream",
     "text": [
      "100%|██████████| 1000/1000 [00:21<00:00, 46.00it/s]\n"
     ]
    },
    {
     "name": "stdout",
     "output_type": "stream",
     "text": [
      "  >Generating single‑cell‑dominant pseudo‑bulks…\n"
     ]
    },
    {
     "name": "stderr",
     "output_type": "stream",
     "text": [
      "100%|██████████| 1100/1100 [00:24<00:00, 45.20it/s]\n"
     ]
    },
    {
     "name": "stdout",
     "output_type": "stream",
     "text": [
      "  Done for 2467, dissociated, Train.\n",
      "\n",
      "Generating pseudo‑bulk profiles for sample 2497, stim dissociated, split Test …\n",
      ">No matching cells – skipping.\n",
      "Generating pseudo‑bulk profiles for sample 2497, stim dissociated, split Train …\n",
      "  >Generating random‑prop pseudo‑bulks…\n"
     ]
    },
    {
     "name": "stderr",
     "output_type": "stream",
     "text": [
      "100%|██████████| 1000/1000 [00:21<00:00, 45.72it/s]\n"
     ]
    },
    {
     "name": "stdout",
     "output_type": "stream",
     "text": [
      "  >Generating single‑cell‑dominant pseudo‑bulks…\n"
     ]
    },
    {
     "name": "stderr",
     "output_type": "stream",
     "text": [
      "100%|██████████| 1100/1100 [00:24<00:00, 45.21it/s]\n"
     ]
    },
    {
     "name": "stdout",
     "output_type": "stream",
     "text": [
      "  Done for 2497, dissociated, Train.\n",
      "\n"
     ]
    }
   ],
   "source": [
    "augmentor.run(\n",
    "    save_path=SC_AUGMENTED_DATA_PATH,\n",
    "    augmentation_name=f'{ACCESSION}_augmented',\n",
    "    seed=42,\n",
    "    overwrite=True,\n",
    ")"
   ]
  }
 ],
 "metadata": {
  "kernelspec": {
   "display_name": "buddi_conda",
   "language": "python",
   "name": "python3"
  },
  "language_info": {
   "codemirror_mode": {
    "name": "ipython",
    "version": 3
   },
   "file_extension": ".py",
   "mimetype": "text/x-python",
   "name": "python",
   "nbconvert_exporter": "python",
   "pygments_lexer": "ipython3",
   "version": "3.9.21"
  }
 },
 "nbformat": 4,
 "nbformat_minor": 2
}
