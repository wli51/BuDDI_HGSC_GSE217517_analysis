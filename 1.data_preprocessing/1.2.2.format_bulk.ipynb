{
 "cells": [
  {
   "cell_type": "markdown",
   "metadata": {},
   "source": [
    "# This notebook formats the bulk RNAseq expression data to match the metadata fields from the generatedpseudobulks\n",
    "\n",
    "Intended inputs to this dataset are paired `.tsv` expression and metadata files\n",
    "\n",
    "The end product of this notebook will a single `.h5ad` file that includes all bulk obervations and the following metadata fields:\n",
    "- stimulation column `stim`\n",
    "- sample id column `sample_id`"
   ]
  },
  {
   "cell_type": "code",
   "execution_count": 1,
   "metadata": {},
   "outputs": [],
   "source": [
    "import sys\n",
    "import pathlib\n",
    "import yaml\n",
    "import subprocess\n",
    "import pickle\n",
    "\n",
    "import pandas as pd\n",
    "import anndata as ad"
   ]
  },
  {
   "cell_type": "markdown",
   "metadata": {},
   "source": [
    "## Load config\n",
    "The config file specifies the path to data and software repo (due to currently in active development)"
   ]
  },
  {
   "cell_type": "code",
   "execution_count": 2,
   "metadata": {},
   "outputs": [],
   "source": [
    "# Get the root directory of the analysis repository\n",
    "REPO_ROOT = subprocess.run(\n",
    "    [\"git\", \"rev-parse\", \"--show-toplevel\"], capture_output=True, text=True\n",
    ").stdout.strip()\n",
    "REPO_ROOT = pathlib.Path(REPO_ROOT)\n",
    "\n",
    "CONFIG_FILE = REPO_ROOT / 'config.yml'\n",
    "assert CONFIG_FILE.exists(), f\"Config file not found at {CONFIG_FILE}\"\n",
    "\n",
    "with open(CONFIG_FILE, 'r') as file:\n",
    "    config_dict = yaml.safe_load(file)\n",
    "ACCESSION = config_dict['data_accession']"
   ]
  },
  {
   "cell_type": "markdown",
   "metadata": {},
   "source": [
    "## Parameters"
   ]
  },
  {
   "cell_type": "code",
   "execution_count": 3,
   "metadata": {},
   "outputs": [],
   "source": [
    "analysis_config = config_dict['analysis_config']\n",
    "source_col_def = analysis_config['source']['bulk']\n",
    "format_col_def = analysis_config['format']\n",
    "\n",
    "SAMPLE_ID_COL = format_col_def['obs']['sample_col']\n",
    "STIM_COL = format_col_def['obs']['stim_col']\n",
    "GENE_ID_COL = format_col_def['var']['gene_id_col']\n",
    "DATASPLIT_SEED = 42"
   ]
  },
  {
   "cell_type": "markdown",
   "metadata": {},
   "source": [
    "## Define Path to write Pre-Processing Outputs"
   ]
  },
  {
   "cell_type": "code",
   "execution_count": 4,
   "metadata": {},
   "outputs": [],
   "source": [
    "PREPROCESSING_OUTPUT_PATH = REPO_ROOT / 'processed_data'\n",
    "assert PREPROCESSING_OUTPUT_PATH.exists(), f\"Preprocessing output path {PREPROCESSING_OUTPUT_PATH} does not exist\"\n",
    "BULK_FORMAT_DATA_PATH = PREPROCESSING_OUTPUT_PATH / 'bulk_formatted'\n",
    "BULK_FORMAT_DATA_PATH.mkdir(exist_ok=True, parents=True)\n",
    "BULK_FORMAT_EXPR_FILE = BULK_FORMAT_DATA_PATH / f'{ACCESSION}bulk_processed.h5ad'"
   ]
  },
  {
   "cell_type": "markdown",
   "metadata": {},
   "source": [
    "## Preprocessing of Bulk Data"
   ]
  },
  {
   "cell_type": "markdown",
   "metadata": {},
   "source": [
    "## Load anndata object and export"
   ]
  },
  {
   "cell_type": "code",
   "execution_count": 5,
   "metadata": {},
   "outputs": [],
   "source": [
    "adata = ad.read_h5ad(\n",
    "    REPO_ROOT / 'processed_data' / f'{ACCESSION}_qc_norm.h5ad'\n",
    ")"
   ]
  },
  {
   "cell_type": "code",
   "execution_count": null,
   "metadata": {},
   "outputs": [],
   "source": [
    "adata.var[GENE_ID_COL] = adata.var[\n",
    "    source_col_def['var']['gene_id_col']]\n",
    "adata.obs[SAMPLE_ID_COL] = adata.obs[\n",
    "    source_col_def['obs']['sample_col']].tolist()\n",
    "adata.obs[STIM_COL] = adata.obs[\n",
    "    source_col_def['obs']['stim_col']]\n",
    "\n",
    "for col in adata.obs.columns:\n",
    "    if adata.obs[col].dtype == object or adata.obs[col].dtype == \"category\":\n",
    "        adata.obs[col] = adata.obs[col].astype(\"str\")\n",
    "\n",
    "adata.write(BULK_FORMAT_EXPR_FILE)"
   ]
  },
  {
   "cell_type": "code",
   "execution_count": 7,
   "metadata": {},
   "outputs": [
    {
     "name": "stdout",
     "output_type": "stream",
     "text": [
      "stim       chunk  dissociated\n",
      "sample_id                    \n",
      "2251           1            2\n",
      "2267           1            2\n",
      "2283           1            2\n",
      "2293           1            2\n",
      "2380           1            2\n",
      "2428           1            2\n",
      "2467           1            2\n",
      "2497           1            2\n"
     ]
    }
   ],
   "source": [
    "ct = pd.crosstab(adata.obs[SAMPLE_ID_COL], adata.obs[STIM_COL])\n",
    "with pd.option_context(\n",
    "    'display.max_rows', None,\n",
    "    'display.max_columns', None,\n",
    "    'display.width', None,\n",
    "    'display.max_colwidth', None\n",
    "):\n",
    "    print(ct)"
   ]
  },
  {
   "cell_type": "code",
   "execution_count": 8,
   "metadata": {},
   "outputs": [],
   "source": [
    "gene_out_file = BULK_FORMAT_DATA_PATH / f'{ACCESSION}_genes.pkl'\n",
    "gene_ids = adata.var[GENE_ID_COL]\n",
    "pickle.dump(gene_ids, open( gene_out_file, \"wb\" ) )"
   ]
  }
 ],
 "metadata": {
  "kernelspec": {
   "display_name": "buddi_conda",
   "language": "python",
   "name": "python3"
  },
  "language_info": {
   "codemirror_mode": {
    "name": "ipython",
    "version": 3
   },
   "file_extension": ".py",
   "mimetype": "text/x-python",
   "name": "python",
   "nbconvert_exporter": "python",
   "pygments_lexer": "ipython3",
   "version": "3.9.21"
  }
 },
 "nbformat": 4,
 "nbformat_minor": 2
}
