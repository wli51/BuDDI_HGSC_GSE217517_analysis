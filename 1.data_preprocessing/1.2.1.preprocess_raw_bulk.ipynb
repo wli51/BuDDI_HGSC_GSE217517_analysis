{
 "cells": [
  {
   "cell_type": "markdown",
   "id": "d6112a4d",
   "metadata": {},
   "source": [
    "# This notebook ..."
   ]
  },
  {
   "cell_type": "code",
   "execution_count": 1,
   "id": "4f17f119",
   "metadata": {},
   "outputs": [],
   "source": [
    "import sys\n",
    "import pathlib\n",
    "import yaml\n",
    "import subprocess\n",
    "\n",
    "import pandas as pd\n",
    "import numpy as np\n",
    "import scanpy as sc\n",
    "import anndata as ad"
   ]
  },
  {
   "cell_type": "markdown",
   "id": "38b0f2b1",
   "metadata": {},
   "source": [
    "## Load config\n",
    "The config file specifies the path to data and software repo (due to currently in active development)"
   ]
  },
  {
   "cell_type": "code",
   "execution_count": 2,
   "id": "2cca06e2",
   "metadata": {},
   "outputs": [],
   "source": [
    "# Get the root directory of the analysis repository\n",
    "REPO_ROOT = subprocess.run(\n",
    "    [\"git\", \"rev-parse\", \"--show-toplevel\"], capture_output=True, text=True\n",
    ").stdout.strip()\n",
    "REPO_ROOT = pathlib.Path(REPO_ROOT)\n",
    "\n",
    "CONFIG_FILE = REPO_ROOT / 'config.yml'\n",
    "assert CONFIG_FILE.exists(), f\"Config file not found at {CONFIG_FILE}\"\n",
    "\n",
    "with open(CONFIG_FILE, 'r') as file:\n",
    "    config_dict = yaml.safe_load(file)"
   ]
  },
  {
   "cell_type": "markdown",
   "id": "4ad2f3fb",
   "metadata": {},
   "source": [
    "## Retrieve Path to Processed Bulk RNA-seq Data and relevant Metadata"
   ]
  },
  {
   "cell_type": "code",
   "execution_count": 3,
   "id": "eb566018",
   "metadata": {},
   "outputs": [],
   "source": [
    "ACCESSION = config_dict['data_accession']\n",
    "BIOMART_EXPORT = config_dict['biomart_export_file']\n",
    "\n",
    "BULK_DATA_PATH = pathlib.Path(config_dict['data_path']['bulk_data_path']) / ACCESSION\n",
    "assert BULK_DATA_PATH.exists(), f\"Bulk data path not found at {BULK_DATA_PATH}\"\n",
    "BULK_DATA_FILES = BULK_DATA_PATH.glob('*.tsv.gz')\n",
    "assert BULK_DATA_FILES, f\"No bulk data files found in {BULK_DATA_PATH}\"\n",
    "SC_DATA_PATH = pathlib.Path(config_dict['data_path']['sc_data_path'])\n",
    "METADATA_PATH  = SC_DATA_PATH / f'{ACCESSION}_metadata'\n",
    "assert METADATA_PATH.exists(), f\"Metadata file not found at {METADATA_PATH}\""
   ]
  },
  {
   "cell_type": "code",
   "execution_count": 4,
   "id": "505bea7f",
   "metadata": {},
   "outputs": [],
   "source": [
    "analysis_config = config_dict['analysis_config']\n",
    "GENE_ID_COL = analysis_config['source']['bulk']['var']['gene_id_col'] # 'gene_ids'"
   ]
  },
  {
   "cell_type": "markdown",
   "id": "8d971c85",
   "metadata": {},
   "source": [
    "## Define save path of output"
   ]
  },
  {
   "cell_type": "code",
   "execution_count": 5,
   "id": "5bc76f74",
   "metadata": {},
   "outputs": [],
   "source": [
    "OUTPUT_PATH = REPO_ROOT / 'processed_data'\n",
    "if not OUTPUT_PATH.exists():\n",
    "    OUTPUT_PATH.mkdir(parents=True, exist_ok=True)\n",
    "assert OUTPUT_PATH.exists(), f\"Output path not found at {OUTPUT_PATH}\""
   ]
  },
  {
   "cell_type": "markdown",
   "id": "422f264f",
   "metadata": {},
   "source": [
    "## Assebmle raw reads into anndata"
   ]
  },
  {
   "cell_type": "markdown",
   "id": "eb0b61a9",
   "metadata": {},
   "source": [
    "Extract counts and metadata"
   ]
  },
  {
   "cell_type": "code",
   "execution_count": 6,
   "id": "23e448e7",
   "metadata": {},
   "outputs": [],
   "source": [
    "SEP = '\\t'\n",
    "INDEX_COL = 0\n",
    "SKIP_ROWS = 3\n",
    "STRAND = 'reverse'\n",
    "assert STRAND in ['unstranded', 'reverse', 'forward'], f\"Invalid strand: {STRAND}\"\n",
    "\n",
    "\n",
    "count_dfs = []\n",
    "sample_ids = []\n",
    "dissociation_methods = []\n",
    "enrichment_methods = []\n",
    "subject_ids = []\n",
    "for bulk_data_file in BULK_DATA_FILES:\n",
    "    \n",
    "    name_split = bulk_data_file.stem.split('_')\n",
    "    sample_id = name_split[0]\n",
    "    sample_ids.append(sample_id)\n",
    "    dissociation_method = name_split[2]\n",
    "    dissociation_methods.append(dissociation_method)\n",
    "    enrichment_method = name_split[3]\n",
    "    enrichment_methods.append(enrichment_method)\n",
    "    subject_id = name_split[4]\n",
    "    subject_ids.append(subject_id)\n",
    "    \n",
    "    count_df = pd.read_csv(\n",
    "        bulk_data_file, \n",
    "        sep=SEP, \n",
    "        index_col=INDEX_COL,\n",
    "        skiprows=SKIP_ROWS\n",
    "    )\n",
    "    count_df.index.name = 'ensembl_gene_id'\n",
    "    count_df.columns = ['unstranded', 'forward', 'reverse']\n",
    "    count_dfs.append(count_df.loc[:, STRAND])"
   ]
  },
  {
   "cell_type": "markdown",
   "id": "f927dc39",
   "metadata": {},
   "source": [
    "Concatenate counts and metadata"
   ]
  },
  {
   "cell_type": "code",
   "execution_count": 7,
   "id": "7c1ac20a",
   "metadata": {},
   "outputs": [
    {
     "name": "stdout",
     "output_type": "stream",
     "text": [
      "Counts DataFrame shape: (36601, 24)\n",
      "                 GSM6720939  GSM6720952  GSM6720936  GSM6720935  GSM6720938  \\\n",
      "ensembl_gene_id                                                               \n",
      "ENSG00000243485           0           0           0           0           0   \n",
      "ENSG00000237613           0           0           0           0           0   \n",
      "ENSG00000186092           0           0           0           0           0   \n",
      "ENSG00000238009           3           5           5           6           1   \n",
      "ENSG00000239945           0           0           0           0           0   \n",
      "\n",
      "                 GSM6720942  GSM6720948  GSM6720943  GSM6720945  GSM6720941  \\\n",
      "ensembl_gene_id                                                               \n",
      "ENSG00000243485           1           2           2           0           0   \n",
      "ENSG00000237613           0           0           0           0           0   \n",
      "ENSG00000186092           0           0           0           0           0   \n",
      "ENSG00000238009           6           1           1           1          12   \n",
      "ENSG00000239945           0           0           0           0           0   \n",
      "\n",
      "                 ...  GSM6720946  GSM6720953  GSM6720940  GSM6720958  \\\n",
      "ensembl_gene_id  ...                                                   \n",
      "ENSG00000243485  ...           2           3           0           0   \n",
      "ENSG00000237613  ...           0           0           0           2   \n",
      "ENSG00000186092  ...           0           0           0           0   \n",
      "ENSG00000238009  ...           4          11           5          10   \n",
      "ENSG00000239945  ...           0           0           0           0   \n",
      "\n",
      "                 GSM6720955  GSM6720944  GSM6720949  GSM6720956  GSM6720950  \\\n",
      "ensembl_gene_id                                                               \n",
      "ENSG00000243485           0           1           0           0           0   \n",
      "ENSG00000237613           1           0           0           0           0   \n",
      "ENSG00000186092           0           0           0           0           0   \n",
      "ENSG00000238009           6           1           4           1           3   \n",
      "ENSG00000239945           0           0           0           0           0   \n",
      "\n",
      "                 GSM6720954  \n",
      "ensembl_gene_id              \n",
      "ENSG00000243485           2  \n",
      "ENSG00000237613           0  \n",
      "ENSG00000186092           0  \n",
      "ENSG00000238009          13  \n",
      "ENSG00000239945           0  \n",
      "\n",
      "[5 rows x 24 columns]\n",
      "Counts Metadata DataFrame shape: (24, 3)\n",
      "           dissociation_method enrichment_method subject_id\n",
      "gse_id                                                     \n",
      "GSM6720939               chunk              ribo       2380\n",
      "GSM6720952         dissociated             polyA       2267\n",
      "GSM6720936               chunk              ribo       2267\n",
      "GSM6720935               chunk              ribo       2251\n",
      "GSM6720938               chunk              ribo       2293\n"
     ]
    }
   ],
   "source": [
    "counts_df = pd.concat(count_dfs, axis=1)\n",
    "counts_df.columns = sample_ids\n",
    "print(f\"Counts DataFrame shape: {counts_df.shape}\")\n",
    "print(counts_df.head())\n",
    "\n",
    "counts_metadata = pd.DataFrame({\n",
    "    'gse_id': sample_ids,\n",
    "    'dissociation_method': dissociation_methods,\n",
    "    'enrichment_method': enrichment_methods,\n",
    "    'subject_id': subject_ids\n",
    "})\n",
    "counts_metadata = counts_metadata.set_index('gse_id')\n",
    "print(f\"Counts Metadata DataFrame shape: {counts_metadata.shape}\")\n",
    "print(counts_metadata.head())"
   ]
  },
  {
   "cell_type": "markdown",
   "id": "2772ed16",
   "metadata": {},
   "source": [
    "Construct Anndata"
   ]
  },
  {
   "cell_type": "code",
   "execution_count": 8,
   "id": "80827395",
   "metadata": {},
   "outputs": [],
   "source": [
    "adata = sc.AnnData(counts_df.T)\n",
    "adata.obs = counts_metadata"
   ]
  },
  {
   "cell_type": "markdown",
   "id": "fc506740",
   "metadata": {},
   "source": [
    "## QC and preprocessing"
   ]
  },
  {
   "cell_type": "markdown",
   "id": "53375c5f",
   "metadata": {},
   "source": [
    "Map Ensembl to Symbol"
   ]
  },
  {
   "cell_type": "code",
   "execution_count": 9,
   "id": "641adf3e",
   "metadata": {},
   "outputs": [
    {
     "name": "stdout",
     "output_type": "stream",
     "text": [
      "Number of mapped symbols: 25315 / 36601\n",
      "Shape of count matrix after mapping:  (24, 36601)\n"
     ]
    },
    {
     "data": {
      "application/vnd.microsoft.datawrangler.viewer.v0+json": {
       "columns": [
        {
         "name": "symbol",
         "rawType": "object",
         "type": "string"
        },
        {
         "name": "ensembl_id",
         "rawType": "object",
         "type": "string"
        },
        {
         "name": "gene_ids",
         "rawType": "object",
         "type": "string"
        }
       ],
       "conversionMethod": "pd.DataFrame",
       "ref": "2f86c29b-f443-4a89-8644-485f5b1d7b60",
       "rows": [
        [
         "MIR1302-2HG",
         "ENSG00000243485",
         "MIR1302-2HG"
        ],
        [
         "FAM138A",
         "ENSG00000237613",
         "FAM138A"
        ],
        [
         "OR4F5",
         "ENSG00000186092",
         "OR4F5"
        ],
        [
         "ENSG00000238009",
         "ENSG00000238009",
         "ENSG00000238009"
        ],
        [
         "ENSG00000239945",
         "ENSG00000239945",
         "ENSG00000239945"
        ]
       ],
       "shape": {
        "columns": 2,
        "rows": 5
       }
      },
      "text/html": [
       "<div>\n",
       "<style scoped>\n",
       "    .dataframe tbody tr th:only-of-type {\n",
       "        vertical-align: middle;\n",
       "    }\n",
       "\n",
       "    .dataframe tbody tr th {\n",
       "        vertical-align: top;\n",
       "    }\n",
       "\n",
       "    .dataframe thead th {\n",
       "        text-align: right;\n",
       "    }\n",
       "</style>\n",
       "<table border=\"1\" class=\"dataframe\">\n",
       "  <thead>\n",
       "    <tr style=\"text-align: right;\">\n",
       "      <th></th>\n",
       "      <th>ensembl_id</th>\n",
       "      <th>gene_ids</th>\n",
       "    </tr>\n",
       "    <tr>\n",
       "      <th>symbol</th>\n",
       "      <th></th>\n",
       "      <th></th>\n",
       "    </tr>\n",
       "  </thead>\n",
       "  <tbody>\n",
       "    <tr>\n",
       "      <th>MIR1302-2HG</th>\n",
       "      <td>ENSG00000243485</td>\n",
       "      <td>MIR1302-2HG</td>\n",
       "    </tr>\n",
       "    <tr>\n",
       "      <th>FAM138A</th>\n",
       "      <td>ENSG00000237613</td>\n",
       "      <td>FAM138A</td>\n",
       "    </tr>\n",
       "    <tr>\n",
       "      <th>OR4F5</th>\n",
       "      <td>ENSG00000186092</td>\n",
       "      <td>OR4F5</td>\n",
       "    </tr>\n",
       "    <tr>\n",
       "      <th>ENSG00000238009</th>\n",
       "      <td>ENSG00000238009</td>\n",
       "      <td>ENSG00000238009</td>\n",
       "    </tr>\n",
       "    <tr>\n",
       "      <th>ENSG00000239945</th>\n",
       "      <td>ENSG00000239945</td>\n",
       "      <td>ENSG00000239945</td>\n",
       "    </tr>\n",
       "  </tbody>\n",
       "</table>\n",
       "</div>"
      ],
      "text/plain": [
       "                      ensembl_id         gene_ids\n",
       "symbol                                           \n",
       "MIR1302-2HG      ENSG00000243485      MIR1302-2HG\n",
       "FAM138A          ENSG00000237613          FAM138A\n",
       "OR4F5            ENSG00000186092            OR4F5\n",
       "ENSG00000238009  ENSG00000238009  ENSG00000238009\n",
       "ENSG00000239945  ENSG00000239945  ENSG00000239945"
      ]
     },
     "execution_count": 9,
     "metadata": {},
     "output_type": "execute_result"
    }
   ],
   "source": [
    "# 1) Load Biomart export to map Ensembl IDs to Symbols\n",
    "map_df = pd.read_csv(\n",
    "    BIOMART_EXPORT, \n",
    "    usecols=[\"Gene stable ID\", \"Gene name\"],\n",
    "    dtype=str,\n",
    "    sep='\\t',\n",
    ").set_index(\"Gene stable ID\")[\"Gene name\"]\n",
    "# 2) Remove duplicates entries as we are using unversioned Ensembl IDs\n",
    "map_df = map_df[~map_df.index.duplicated(keep=\"first\")]\n",
    "# 3) Extract the Ensembl IDs from the AnnData object\n",
    "base_ids = adata.var.index.to_series()\n",
    "# 4) Map the Ensembl IDs to Symbols using the Biomart export\n",
    "symbols = base_ids.map(map_df)\n",
    "# 5) Check for unmapped IDs\n",
    "n_mapped   = symbols.notna().sum()\n",
    "print(f\"Number of mapped symbols: {n_mapped} / {len(base_ids)}\")\n",
    "# 6) Fill unmapped IDs with the original Ensembl IDs\n",
    "symbols = symbols.fillna(base_ids)\n",
    "# 7) keep the original Ensembl IDs\n",
    "adata.var['ensembl_id'] = adata.var_names\n",
    "adata.var[GENE_ID_COL] = symbols # make a copy of the symbols\n",
    "# 8) set the var_names to your mapped symbols\n",
    "adata.var_names = symbols\n",
    "adata.var.index.name = 'symbol'\n",
    "# 9) ensure uniqueness in case of duplicates\n",
    "adata.var_names_make_unique()\n",
    "print('Shape of count matrix after mapping: ', adata.X.shape)\n",
    "adata.var.head()"
   ]
  },
  {
   "cell_type": "markdown",
   "id": "fe05979e",
   "metadata": {},
   "source": [
    "QC"
   ]
  },
  {
   "cell_type": "code",
   "execution_count": 10,
   "id": "3dd80562",
   "metadata": {},
   "outputs": [
    {
     "data": {
      "image/png": "[encoded data removed]",
      "text/plain": [
       "<Figure size 804.6x480 with 1 Axes>"
      ]
     },
     "metadata": {},
     "output_type": "display_data"
    },
    {
     "data": {
      "image/png": "[encoded data removed]",
      "text/plain": [
       "<Figure size 804.6x480 with 1 Axes>"
      ]
     },
     "metadata": {},
     "output_type": "display_data"
    }
   ],
   "source": [
    "adata.obs[\"total_counts\"] = adata.X.sum(axis=1)\n",
    "adata.obs[\"n_genes_by_counts\"] = (adata.X > 0).sum(axis=1)\n",
    "# plot distributions\n",
    "sc.pl.violin(adata, [\"total_counts\"], jitter=0.4, log=True)\n",
    "sc.pl.violin(adata, [\"n_genes_by_counts\"], jitter=0.4, log=True)"
   ]
  },
  {
   "cell_type": "markdown",
   "id": "0f3abee4",
   "metadata": {},
   "source": [
    "Remove poor qc samples and genes"
   ]
  },
  {
   "cell_type": "code",
   "execution_count": 11,
   "id": "7f643941",
   "metadata": {},
   "outputs": [
    {
     "name": "stdout",
     "output_type": "stream",
     "text": [
      "(24, 36601)\n",
      "(24, 31110)\n"
     ]
    }
   ],
   "source": [
    "print(adata.shape)\n",
    "\n",
    "sc.pp.filter_cells(adata, min_counts=1e6)\n",
    "sc.pp.filter_cells(adata, min_genes=5000)\n",
    "sc.pp.filter_genes(adata, min_cells=3)\n",
    "\n",
    "print(adata.shape)\n",
    "\n",
    "sc.pp.normalize_total(adata, target_sum=1e6)\n",
    "sc.pp.log1p(adata)"
   ]
  },
  {
   "cell_type": "markdown",
   "id": "560bdbf5",
   "metadata": {},
   "source": [
    "### Save adata object"
   ]
  },
  {
   "cell_type": "code",
   "execution_count": 12,
   "id": "284e132b",
   "metadata": {},
   "outputs": [],
   "source": [
    "adata.write(\n",
    "    REPO_ROOT / 'processed_data' / f'{ACCESSION}_qc_norm.h5ad'\n",
    ")"
   ]
  }
 ],
 "metadata": {
  "kernelspec": {
   "display_name": "buddi_conda",
   "language": "python",
   "name": "python3"
  },
  "language_info": {
   "codemirror_mode": {
    "name": "ipython",
    "version": 3
   },
   "file_extension": ".py",
   "mimetype": "text/x-python",
   "name": "python",
   "nbconvert_exporter": "python",
   "pygments_lexer": "ipython3",
   "version": "3.9.21"
  }
 },
 "nbformat": 4,
 "nbformat_minor": 5
}
